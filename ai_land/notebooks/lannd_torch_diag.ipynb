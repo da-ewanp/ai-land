{
 "cells": [
  {
   "cell_type": "code",
   "execution_count": 4,
   "id": "e5442df6-b477-42de-81a6-c523fa8f9084",
   "metadata": {
    "tags": []
   },
   "outputs": [],
   "source": [
    "import xarray as xr\n",
    "import zarr\n",
    "import torch\n",
    "import torch.nn as nn\n",
    "import torch.optim as optim\n",
    "from torch import tensor\n",
    "from torch.utils.data import random_split, Dataset, DataLoader\n",
    "import pytorch_lightning as pl\n",
    "from torch.distributed import init_process_group, destroy_process_group\n",
    "#import mlflow\n",
    "#import mlflow.pytorch\n",
    "from pytorch_lightning.loggers import MLFlowLogger\n",
    "from pytorch_lightning.callbacks import ModelCheckpoint, RichProgressBar, Callback\n",
    "import matplotlib.pyplot as plt\n",
    "import numpy as np\n",
    "import yaml\n",
    "import matplotlib.pyplot as plt\n",
    "from sklearn.metrics import r2_score, mean_absolute_percentage_error, mean_absolute_error\n",
    "from ai_land.data_module import EcDataset, NonLinRegDataModule\n",
    "\n",
    "\n",
    "def r2_score_multi(y_pred: np.ndarray, y_true: np.ndarray) -> float:\n",
    "    \"\"\"Calculated the r-squared score between 2 arrays of values\n",
    "\n",
    "    :param y_pred: predicted array\n",
    "    :param y_true: \"truth\" array\n",
    "    :return: r-squared metric\n",
    "    \"\"\"\n",
    "    return r2_score(y_pred.flatten(), y_true.flatten())\n",
    "\n",
    "\n",
    "def find_nearest_idx(\n",
    "    arr1: np.ndarray,\n",
    "    arr2: np.ndarray,\n",
    "    val1: float,\n",
    "    val2: float,\n",
    ") -> int:\n",
    "    \"\"\"Find first nearest index for a given tolerance for two arrays and 2 values\n",
    "\n",
    "    :param arr1: first array\n",
    "    :param arr2: second array\n",
    "    :param val1: value to find in first array\n",
    "    :param val2: value to find in second array\n",
    "    :return: index as int\n",
    "    \"\"\"\n",
    "    return (np.abs(arr1 - val1) + np.abs(arr2 - val2)).argmin()\n",
    "\n",
    "\n",
    "with open(\"config.yaml\") as stream:\n",
    "    try:\n",
    "        CONFIG = yaml.safe_load(stream)\n",
    "    except yaml.YAMLError as exc:\n",
    "        print(exc)\n",
    "\n",
    "torch.cuda.empty_cache()"
   ]
  },
  {
   "cell_type": "code",
   "execution_count": 6,
   "id": "83918246-5718-4584-b170-beff7ad389bd",
   "metadata": {
    "tags": []
   },
   "outputs": [
    {
     "name": "stdout",
     "output_type": "stream",
     "text": [
      "CPU times: user 300 ms, sys: 51.8 ms, total: 352 ms\n",
      "Wall time: 136 ms\n"
     ]
    }
   ],
   "source": [
    "%%time\n",
    "#dataset = EcDataset(path=\"/ec/res4/hpcperm/daep/ecland_i6aj_o400_2010_2022_6hr_subset.zarr\")\n",
    "dataset = EcDataset(path=\"/hpcperm/daep/ec_land_training_db/ecland_i6aj_o400_2010_2022_6h_euro.zarr/\")\n",
    "clim, met, state, y, y_diag = next(iter(dataset))"
   ]
  },
  {
   "cell_type": "code",
   "execution_count": 7,
   "id": "d3248ab7-b2ce-4064-bea7-1de58cdba4ee",
   "metadata": {
    "tags": []
   },
   "outputs": [
    {
     "name": "stdout",
     "output_type": "stream",
     "text": [
      "CPU times: user 1.94 s, sys: 11 ms, total: 1.96 s\n",
      "Wall time: 147 ms\n"
     ]
    }
   ],
   "source": [
    "%%time\n",
    "clim, met, state, y, y_diag = next(iter(dataset))"
   ]
  },
  {
   "cell_type": "code",
   "execution_count": 4,
   "id": "957bb0fa-2144-4b2e-963f-068edd924550",
   "metadata": {
    "tags": []
   },
   "outputs": [],
   "source": [
    "# ds = xr.open_zarr(\"/ec/res4/hpcperm/daep/ecland_i6aj_o400_2010_2022_6hr.zarr\")\n",
    "# ds"
   ]
  },
  {
   "cell_type": "code",
   "execution_count": 5,
   "id": "4732d46b-29a7-49e7-8940-2f51594f7ce3",
   "metadata": {
    "tags": []
   },
   "outputs": [],
   "source": [
    "# %%time\n",
    "# idx = find_nearest_idx(ds.lat.values, ds.lon.values, 48, 5)\n",
    "# print(idx)\n",
    "# ds2 = ds.sel(time=\"2011\").isel(x=idx).compute()\n",
    "# ds2"
   ]
  },
  {
   "cell_type": "code",
   "execution_count": 6,
   "id": "57e6ef0c-bac7-43ce-abbd-f16213d2dfeb",
   "metadata": {
    "tags": []
   },
   "outputs": [],
   "source": [
    "# ds2.sel(variable=\"t2m\", time=slice(\"2011-01-12\", \"2011-02-15\")).data.plot()"
   ]
  },
  {
   "cell_type": "code",
   "execution_count": 8,
   "id": "be6b2f66-6634-4278-a88c-0c6706cd06e4",
   "metadata": {
    "tags": []
   },
   "outputs": [
    {
     "data": {
      "text/plain": [
       "{'clim_feats': ['clim_clake',\n",
       "  'clim_ldepth',\n",
       "  'clim_ctype',\n",
       "  'clim_cell_area',\n",
       "  'clim_landsea',\n",
       "  'clim_glm',\n",
       "  'clim_cu',\n",
       "  'clim_cvh',\n",
       "  'clim_cvl',\n",
       "  'clim_tvh',\n",
       "  'clim_tvl',\n",
       "  'clim_sotype',\n",
       "  'clim_geopot',\n",
       "  'clim_sdfor',\n",
       "  'clim_sdor',\n",
       "  'clim_theta_cap',\n",
       "  'clim_theta_pwp',\n",
       "  'clim_veg_covh',\n",
       "  'clim_veg_covl',\n",
       "  'clim_veg_z0mh',\n",
       "  'clim_veg_z0ml',\n",
       "  'clim_veg_rsminh',\n",
       "  'clim_veg_rsminl'],\n",
       " 'dynamic_feats': ['met_ctpf',\n",
       "  'met_lwdown',\n",
       "  'met_psurf',\n",
       "  'met_qair',\n",
       "  'met_rainf',\n",
       "  'met_swdown',\n",
       "  'met_snowf',\n",
       "  'met_tair',\n",
       "  'met_wind_e',\n",
       "  'met_wind_n',\n",
       "  'lai_hv',\n",
       "  'lai_lv'],\n",
       " 'targets_prog': ['swvl1',\n",
       "  'swvl2',\n",
       "  'swvl3',\n",
       "  'stl1',\n",
       "  'stl2',\n",
       "  'stl3',\n",
       "  'snowc',\n",
       "  'sd'],\n",
       " 'targets_diag': ['d2m', 't2m', 'skt'],\n",
       " 'file_path': '/ec/scratch/daep/ecland_i6aj_chunked.zarr',\n",
       " 'start_year': 2015,\n",
       " 'end_year': 2020,\n",
       " 'validation_start': 2021,\n",
       " 'validation_end': 2021,\n",
       " 'x_slice_indices': [0, 'None'],\n",
       " 'roll_out': 8,\n",
       " 'batch_size': 1000,\n",
       " 'num_workers': 16,\n",
       " 'hidden_dim': 192,\n",
       " 'max_epochs': 250,\n",
       " 'strategy': 'ddp',\n",
       " 'devices': 1,\n",
       " 'model_path': 'models/pyt_mlf_6hr_128_newdb_i6aj2.pt',\n",
       " 'logging': {'logger': 'csv',\n",
       "  'location': 'logs2',\n",
       "  'project': 'lannd_emulator_6hr_newdb_i6aj_sea',\n",
       "  'name': 'roll_8_sl1_idx',\n",
       "  'plot_freq': 10}}"
      ]
     },
     "execution_count": 8,
     "metadata": {},
     "output_type": "execute_result"
    }
   ],
   "source": [
    "CONFIG"
   ]
  },
  {
   "cell_type": "code",
   "execution_count": 9,
   "id": "6cbe8f02-b212-456e-89b9-c8e164dfd142",
   "metadata": {
    "tags": []
   },
   "outputs": [
    {
     "data": {
      "text/plain": [
       "device(type='cuda', index=0)"
      ]
     },
     "execution_count": 9,
     "metadata": {},
     "output_type": "execute_result"
    }
   ],
   "source": [
    "# Set device\n",
    "if torch.cuda.is_available(): \n",
    "    dev = \"cuda:0\" \n",
    "else: \n",
    "    dev = \"cpu\" \n",
    "device = torch.device(dev) \n",
    "device"
   ]
  },
  {
   "cell_type": "code",
   "execution_count": 22,
   "id": "73e7b884-a26e-4292-a100-c79efa32cbf9",
   "metadata": {
    "jupyter": {
     "source_hidden": true
    },
    "tags": []
   },
   "outputs": [],
   "source": [
    "# Define a neural network model with hidden layers and activation functions\n",
    "class NonLinearRegression(pl.LightningModule):\n",
    "    def __init__(self, input_size_clim, input_size_met, input_size_state, hidden_size, output_size, diag_output_size):\n",
    "        super(NonLinearRegression, self).__init__()\n",
    "        self.diag_output_size = diag_output_size\n",
    "        self.layer_clim = nn.Linear(input_size_clim, hidden_size)\n",
    "        self.relu1 = nn.ReLU()\n",
    "        self.layer_met = nn.Linear(input_size_met, hidden_size)\n",
    "        self.relu2 = nn.ReLU()\n",
    "        self.layer_state = nn.Linear(input_size_state, hidden_size)\n",
    "        self.relu3 = nn.ReLU()\n",
    "\n",
    "        self.combine_layer = nn.Linear(hidden_size * 3, hidden_size)\n",
    "        self.lrelu1 = nn.LeakyReLU()\n",
    "\n",
    "        self.fc1 = nn.Linear(hidden_size, hidden_size)\n",
    "        self.lrelu2 = nn.LeakyReLU()\n",
    "        self.fc2 = nn.Linear(hidden_size, hidden_size)\n",
    "        self.lrelu3 = nn.LeakyReLU()\n",
    "        self.fc3 = nn.Linear(hidden_size, output_size)\n",
    "        \n",
    "        #self.combine_layer_diag = nn.Linear(hidden_size*3, hidden_size)\n",
    "        #self.lrelu4 = nn.LeakyReLU()\n",
    "        self.fc4 = nn.Linear(hidden_size, hidden_size)\n",
    "        self.lrelu5 = nn.LeakyReLU()\n",
    "        self.fc5 = nn.Linear(hidden_size, diag_output_size)\n",
    "        \n",
    "        # Target list\n",
    "        # self.targ_lst = CONFIG[\"targets\"]\n",
    "        ds = zarr.open(CONFIG[\"file_path\"])\n",
    "        fistdiff_idx = [list(ds[\"variable\"]).index(x) for x in CONFIG[\"targets_prog\"]]\n",
    "        # self.ds_mu = tensor(xr.open_zarr(path).firstdiff_means.sel(variable=self.targ_lst).values)\n",
    "        self.ds_std = tensor(ds.firstdiff_stdevs[fistdiff_idx])\n",
    "\n",
    "#         self.targ_scalar = TorchStandardScalerFeatTens(\n",
    "#             path=\"normalise/ec_land_deltax_mean_std.zarr\",\n",
    "#             feat_lst=self.targ_lst,\n",
    "#             #dev=device,\n",
    "#         )\n",
    "#     def transform(self, x):\n",
    "#         x_norm = (x - self.mean.to(self.device)) / (self.std.to(self.device) + 1e-5)\n",
    "#         return x_norm\n",
    "\n",
    "#     def inv_transform(self, x_norm):\n",
    "#         x = (x_norm * (self.std + 1e-5)) + self.mean\n",
    "#         return x\n",
    "        \n",
    "\n",
    "    def forward(self, clim_feats, met_feats, state_feats):\n",
    "        out_clim = self.relu1(self.layer_clim(clim_feats))\n",
    "        out_met = self.relu2(self.layer_met(met_feats))\n",
    "        out_state = self.relu3(self.layer_state(state_feats))\n",
    "\n",
    "        combined = torch.cat((out_clim, out_met, out_state), dim=-1)\n",
    "        combined_out = self.lrelu1(self.combine_layer(combined))\n",
    "\n",
    "        out = self.lrelu2(self.fc1(combined_out))\n",
    "        out = self.lrelu3(self.fc2(out))\n",
    "        out = self.fc3(out)\n",
    "        \n",
    "        #out_state_update = self.relu3(self.layer_state(state_feats + out))\n",
    "        #combined_diag = torch.cat((out_clim, out_met, out_state_update), dim=-1)\n",
    "        #combined_diag_out = self.lrelu4(self.combine_layer_diag(combined_diag))\n",
    "        #out_diag = self.lrelu5(self.fc4(combined_diag_out))\n",
    "        out_diag = self.lrelu5(self.fc4(combined_out))\n",
    "        out_diag = self.fc5(out_diag)\n",
    "        return out, out_diag\n",
    "    \n",
    "    def predict_step(self, clim_feats, met_feats, state_feats):\n",
    "        preds = state_feats.clone().to(self.device)\n",
    "        preds_diag = torch.zeros_like(preds)\n",
    "        \n",
    "        for x in range(preds.shape[0] - 1):\n",
    "            input_tensor = torch.cat((clim_feats.to(self.device), met_feats[x].to(self.device), preds[x]), axis=-1)\n",
    "            preds_dx, preds_diag = self.forward(input_tensor)\n",
    "            preds[x + 1] = preds[x] + preds_dx\n",
    "        return preds\n",
    "\n",
    "    def MSE_loss(self, logits, labels):\n",
    "        # criterion = nn.MSELoss()\n",
    "        criterion = nn.SmoothL1Loss()\n",
    "        return criterion(logits, labels)\n",
    "\n",
    "    def training_step(self, train_batch, batch_idx):\n",
    "        x_clim, x_met, x_state, y, y_diag = train_batch\n",
    "        logits, logits_diag = self.forward(x_clim, x_met, x_state)\n",
    "        std = self.ds_std.to(self.device)\n",
    "        loss = self.MSE_loss(\n",
    "            logits/std, y/std\n",
    "        )\n",
    "        loss_diag = self.MSE_loss(\n",
    "            logits_diag, y_diag\n",
    "        )\n",
    "        self.log(\n",
    "            \"train_loss\",\n",
    "            loss,\n",
    "        )  # on_step=False, on_epoch=True)\n",
    "        self.log(\n",
    "            \"train_diag_loss\",\n",
    "            loss_diag,\n",
    "        )\n",
    "\n",
    "        if CONFIG[\"roll_out\"] > 1:\n",
    "            # x_clim_rollout = x_clim.clone()\n",
    "            # x_met_rollout = x_met.clone()\n",
    "            x_state_rollout = x_state.clone()\n",
    "            y_rollout = y.clone()\n",
    "            y_rollout_diag = y_diag.clone()\n",
    "            for step in range(CONFIG[\"roll_out\"]):\n",
    "                # x = [batch_size=8, lookback (7) + rollout (3) = 10, n_feature = 37]\n",
    "                x0 = x_state_rollout[:, step, :, :].clone()  # select input with lookback.\n",
    "                y_hat, y_hat_diag = self.forward(x_clim[:, step, :, :], x_met[:, step, :, :], x0)  # prediction at rollout step\n",
    "                y_rollout_diag[:, step, :, :] = y_hat_diag\n",
    "                if step < CONFIG[\"roll_out\"] - 1:\n",
    "                    x_state_rollout[:, step + 1, :, :] = (\n",
    "                        x_state_rollout[:, step, :, :].clone() + y_hat\n",
    "                    )  # overwrite x with prediction.\n",
    "                y_rollout[:, step, :, :] = y_hat  # overwrite y with prediction.\n",
    "            step_loss = self.MSE_loss(\n",
    "                y_rollout/std, y/std\n",
    "            )\n",
    "            step_loss_diag = self.MSE_loss(\n",
    "            y_rollout_diag, y_diag\n",
    "            )\n",
    "            # step_loss = step_loss / ROLLOUT\n",
    "            self.log(\n",
    "                \"step_loss\",\n",
    "                step_loss,\n",
    "            )  # on_step=False, on_epoch=True)\n",
    "            self.log(\n",
    "                \"step_loss_diag\",\n",
    "                step_loss_diag,\n",
    "            )  # on_step=False, on_epoch=True)\n",
    "            loss += step_loss\n",
    "            loss_diag += step_loss_diag\n",
    "\n",
    "        return loss + loss_diag\n",
    "\n",
    "    def validation_step(self, val_batch, batch_idx):\n",
    "        x_clim, x_met, x_state, y, y_diag = val_batch\n",
    "        std = self.ds_std.to(self.device)\n",
    "        logits, logits_diag = self.forward(x_clim, x_met, x_state)\n",
    "        loss = self.MSE_loss(\n",
    "            logits/std, y/std\n",
    "        )\n",
    "        loss_diag = self.MSE_loss(\n",
    "            logits_diag, y_diag\n",
    "        )\n",
    "        r2 = r2_score_multi(\n",
    "            (logits/std).cpu(),\n",
    "            (y/std).cpu(),\n",
    "        )\n",
    "        r2_diag = r2_score_multi(\n",
    "            logits_diag.cpu(),\n",
    "            y_diag.cpu(),\n",
    "        )\n",
    "        self.log(\"val_loss\", loss, on_step=False, on_epoch=True)\n",
    "        self.log(\"val_R2\", r2, on_step=False, on_epoch=True)\n",
    "        self.log(\"val_diag_loss\", loss_diag, on_step=False, on_epoch=True)\n",
    "        self.log(\"val_diag_R2\", r2_diag, on_step=False, on_epoch=True)\n",
    "\n",
    "    def configure_optimizers(self):\n",
    "        optimizer = torch.optim.Adam(self.parameters(), lr=1e-3)\n",
    "        return optimizer"
   ]
  },
  {
   "cell_type": "code",
   "execution_count": 11,
   "id": "d682a6e4-51b6-4f6c-aa6b-d13d7cd0fdeb",
   "metadata": {
    "tags": []
   },
   "outputs": [],
   "source": [
    "from pytorch_lightning.loggers import CSVLogger\n",
    "from ai_land.model import NonLinearRegression\n",
    "\n",
    "data_module = NonLinRegDataModule()\n",
    "# dataset = EcDataset(x_idxs=(31294, 32294))\n",
    "#dataset = EcDataset(path=\"/ec/res4/hpcperm/daep/ecland_i6aj_o400_2010_2022_6hr_subset.zarr\")\n",
    "dataset = EcDataset(path=\"/hpcperm/daep/ec_land_training_db/ecland_i6aj_o400_2010_2022_6h_euro.zarr/\")\n",
    "\n",
    "csv_logger = CSVLogger('logs', name='testing')  # Change 'logs' to the directory where you want to save the logs\n",
    "#wandb_logger = WandbLogger(name='l1_loss',project='testing')\n",
    "#checkpoint_callback = ModelCheckpoint(monitor='val_r**2', mode='max')\n",
    "\n",
    "# train\n",
    "input_dim = len(dataset.dynamic_feat_lst + dataset.static_feat_lst)  # Number of input features\n",
    "input_clim_dim = len(dataset.static_feat_lst)\n",
    "input_met_dim = len(dataset.dynamic_feat_lst)\n",
    "input_state_dim = len(dataset.targ_lst)\n",
    "output_dim = len(dataset.targ_lst)  # Number of output targets\n",
    "output_diag_dim = len(dataset.targ_diag_lst)\n",
    "hidden_dim = CONFIG[\"hidden_dim\"]  # Number of hidden units\n",
    "model_pyt = NonLinearRegression(input_clim_dim,\n",
    "                                input_met_dim,\n",
    "                                input_state_dim,\n",
    "                                hidden_dim,\n",
    "                                output_dim,\n",
    "                                output_diag_dim\n",
    "                                #device\n",
    "                               )"
   ]
  },
  {
   "cell_type": "code",
   "execution_count": 12,
   "id": "7b612c7b-804e-4b68-92ed-39182ed25f81",
   "metadata": {
    "tags": []
   },
   "outputs": [
    {
     "data": {
      "text/plain": [
       "torch.Size([8, 10051, 8])"
      ]
     },
     "execution_count": 12,
     "metadata": {},
     "output_type": "execute_result"
    }
   ],
   "source": [
    "clim, met, state, y, y_diag = next(iter(dataset))\n",
    "model_pyt.forward(clim.clone(), met, state)[0].shape"
   ]
  },
  {
   "cell_type": "code",
   "execution_count": 14,
   "id": "e7d6df17-1c5e-4116-bb29-1283457f6b09",
   "metadata": {
    "tags": []
   },
   "outputs": [
    {
     "name": "stderr",
     "output_type": "stream",
     "text": [
      "GPU available: True (cuda), used: True\n",
      "TPU available: False, using: 0 TPU cores\n",
      "IPU available: False, using: 0 IPUs\n",
      "HPU available: False, using: 0 HPUs\n",
      "Experiment with name lannd_emulator_6hr_newdb_i6aj_sea not found. Creating it.\n"
     ]
    },
    {
     "ename": "KeyError",
     "evalue": "'time'",
     "output_type": "error",
     "traceback": [
      "\u001b[0;31m---------------------------------------------------------------------------\u001b[0m",
      "\u001b[0;31mKeyError\u001b[0m                                  Traceback (most recent call last)",
      "File \u001b[0;32m<timed exec>:33\u001b[0m\n",
      "File \u001b[0;32m/perm/daep/conda/envs/ml-tt/lib/python3.10/site-packages/pytorch_lightning/trainer/trainer.py:544\u001b[0m, in \u001b[0;36mTrainer.fit\u001b[0;34m(self, model, train_dataloaders, val_dataloaders, datamodule, ckpt_path)\u001b[0m\n\u001b[1;32m    542\u001b[0m \u001b[38;5;28mself\u001b[39m\u001b[38;5;241m.\u001b[39mstate\u001b[38;5;241m.\u001b[39mstatus \u001b[38;5;241m=\u001b[39m TrainerStatus\u001b[38;5;241m.\u001b[39mRUNNING\n\u001b[1;32m    543\u001b[0m \u001b[38;5;28mself\u001b[39m\u001b[38;5;241m.\u001b[39mtraining \u001b[38;5;241m=\u001b[39m \u001b[38;5;28;01mTrue\u001b[39;00m\n\u001b[0;32m--> 544\u001b[0m \u001b[43mcall\u001b[49m\u001b[38;5;241;43m.\u001b[39;49m\u001b[43m_call_and_handle_interrupt\u001b[49m\u001b[43m(\u001b[49m\n\u001b[1;32m    545\u001b[0m \u001b[43m    \u001b[49m\u001b[38;5;28;43mself\u001b[39;49m\u001b[43m,\u001b[49m\u001b[43m \u001b[49m\u001b[38;5;28;43mself\u001b[39;49m\u001b[38;5;241;43m.\u001b[39;49m\u001b[43m_fit_impl\u001b[49m\u001b[43m,\u001b[49m\u001b[43m \u001b[49m\u001b[43mmodel\u001b[49m\u001b[43m,\u001b[49m\u001b[43m \u001b[49m\u001b[43mtrain_dataloaders\u001b[49m\u001b[43m,\u001b[49m\u001b[43m \u001b[49m\u001b[43mval_dataloaders\u001b[49m\u001b[43m,\u001b[49m\u001b[43m \u001b[49m\u001b[43mdatamodule\u001b[49m\u001b[43m,\u001b[49m\u001b[43m \u001b[49m\u001b[43mckpt_path\u001b[49m\n\u001b[1;32m    546\u001b[0m \u001b[43m\u001b[49m\u001b[43m)\u001b[49m\n",
      "File \u001b[0;32m/perm/daep/conda/envs/ml-tt/lib/python3.10/site-packages/pytorch_lightning/trainer/call.py:44\u001b[0m, in \u001b[0;36m_call_and_handle_interrupt\u001b[0;34m(trainer, trainer_fn, *args, **kwargs)\u001b[0m\n\u001b[1;32m     42\u001b[0m     \u001b[38;5;28;01mif\u001b[39;00m trainer\u001b[38;5;241m.\u001b[39mstrategy\u001b[38;5;241m.\u001b[39mlauncher \u001b[38;5;129;01mis\u001b[39;00m \u001b[38;5;129;01mnot\u001b[39;00m \u001b[38;5;28;01mNone\u001b[39;00m:\n\u001b[1;32m     43\u001b[0m         \u001b[38;5;28;01mreturn\u001b[39;00m trainer\u001b[38;5;241m.\u001b[39mstrategy\u001b[38;5;241m.\u001b[39mlauncher\u001b[38;5;241m.\u001b[39mlaunch(trainer_fn, \u001b[38;5;241m*\u001b[39margs, trainer\u001b[38;5;241m=\u001b[39mtrainer, \u001b[38;5;241m*\u001b[39m\u001b[38;5;241m*\u001b[39mkwargs)\n\u001b[0;32m---> 44\u001b[0m     \u001b[38;5;28;01mreturn\u001b[39;00m \u001b[43mtrainer_fn\u001b[49m\u001b[43m(\u001b[49m\u001b[38;5;241;43m*\u001b[39;49m\u001b[43margs\u001b[49m\u001b[43m,\u001b[49m\u001b[43m \u001b[49m\u001b[38;5;241;43m*\u001b[39;49m\u001b[38;5;241;43m*\u001b[39;49m\u001b[43mkwargs\u001b[49m\u001b[43m)\u001b[49m\n\u001b[1;32m     46\u001b[0m \u001b[38;5;28;01mexcept\u001b[39;00m _TunerExitException:\n\u001b[1;32m     47\u001b[0m     _call_teardown_hook(trainer)\n",
      "File \u001b[0;32m/perm/daep/conda/envs/ml-tt/lib/python3.10/site-packages/pytorch_lightning/trainer/trainer.py:580\u001b[0m, in \u001b[0;36mTrainer._fit_impl\u001b[0;34m(self, model, train_dataloaders, val_dataloaders, datamodule, ckpt_path)\u001b[0m\n\u001b[1;32m    573\u001b[0m \u001b[38;5;28;01massert\u001b[39;00m \u001b[38;5;28mself\u001b[39m\u001b[38;5;241m.\u001b[39mstate\u001b[38;5;241m.\u001b[39mfn \u001b[38;5;129;01mis\u001b[39;00m \u001b[38;5;129;01mnot\u001b[39;00m \u001b[38;5;28;01mNone\u001b[39;00m\n\u001b[1;32m    574\u001b[0m ckpt_path \u001b[38;5;241m=\u001b[39m \u001b[38;5;28mself\u001b[39m\u001b[38;5;241m.\u001b[39m_checkpoint_connector\u001b[38;5;241m.\u001b[39m_select_ckpt_path(\n\u001b[1;32m    575\u001b[0m     \u001b[38;5;28mself\u001b[39m\u001b[38;5;241m.\u001b[39mstate\u001b[38;5;241m.\u001b[39mfn,\n\u001b[1;32m    576\u001b[0m     ckpt_path,\n\u001b[1;32m    577\u001b[0m     model_provided\u001b[38;5;241m=\u001b[39m\u001b[38;5;28;01mTrue\u001b[39;00m,\n\u001b[1;32m    578\u001b[0m     model_connected\u001b[38;5;241m=\u001b[39m\u001b[38;5;28mself\u001b[39m\u001b[38;5;241m.\u001b[39mlightning_module \u001b[38;5;129;01mis\u001b[39;00m \u001b[38;5;129;01mnot\u001b[39;00m \u001b[38;5;28;01mNone\u001b[39;00m,\n\u001b[1;32m    579\u001b[0m )\n\u001b[0;32m--> 580\u001b[0m \u001b[38;5;28;43mself\u001b[39;49m\u001b[38;5;241;43m.\u001b[39;49m\u001b[43m_run\u001b[49m\u001b[43m(\u001b[49m\u001b[43mmodel\u001b[49m\u001b[43m,\u001b[49m\u001b[43m \u001b[49m\u001b[43mckpt_path\u001b[49m\u001b[38;5;241;43m=\u001b[39;49m\u001b[43mckpt_path\u001b[49m\u001b[43m)\u001b[49m\n\u001b[1;32m    582\u001b[0m \u001b[38;5;28;01massert\u001b[39;00m \u001b[38;5;28mself\u001b[39m\u001b[38;5;241m.\u001b[39mstate\u001b[38;5;241m.\u001b[39mstopped\n\u001b[1;32m    583\u001b[0m \u001b[38;5;28mself\u001b[39m\u001b[38;5;241m.\u001b[39mtraining \u001b[38;5;241m=\u001b[39m \u001b[38;5;28;01mFalse\u001b[39;00m\n",
      "File \u001b[0;32m/perm/daep/conda/envs/ml-tt/lib/python3.10/site-packages/pytorch_lightning/trainer/trainer.py:949\u001b[0m, in \u001b[0;36mTrainer._run\u001b[0;34m(self, model, ckpt_path)\u001b[0m\n\u001b[1;32m    946\u001b[0m log\u001b[38;5;241m.\u001b[39mdebug(\u001b[38;5;124mf\u001b[39m\u001b[38;5;124m\"\u001b[39m\u001b[38;5;132;01m{\u001b[39;00m\u001b[38;5;28mself\u001b[39m\u001b[38;5;241m.\u001b[39m\u001b[38;5;18m__class__\u001b[39m\u001b[38;5;241m.\u001b[39m\u001b[38;5;18m__name__\u001b[39m\u001b[38;5;132;01m}\u001b[39;00m\u001b[38;5;124m: preparing data\u001b[39m\u001b[38;5;124m\"\u001b[39m)\n\u001b[1;32m    947\u001b[0m \u001b[38;5;28mself\u001b[39m\u001b[38;5;241m.\u001b[39m_data_connector\u001b[38;5;241m.\u001b[39mprepare_data()\n\u001b[0;32m--> 949\u001b[0m \u001b[43mcall\u001b[49m\u001b[38;5;241;43m.\u001b[39;49m\u001b[43m_call_setup_hook\u001b[49m\u001b[43m(\u001b[49m\u001b[38;5;28;43mself\u001b[39;49m\u001b[43m)\u001b[49m  \u001b[38;5;66;03m# allow user to set up LightningModule in accelerator environment\u001b[39;00m\n\u001b[1;32m    950\u001b[0m log\u001b[38;5;241m.\u001b[39mdebug(\u001b[38;5;124mf\u001b[39m\u001b[38;5;124m\"\u001b[39m\u001b[38;5;132;01m{\u001b[39;00m\u001b[38;5;28mself\u001b[39m\u001b[38;5;241m.\u001b[39m\u001b[38;5;18m__class__\u001b[39m\u001b[38;5;241m.\u001b[39m\u001b[38;5;18m__name__\u001b[39m\u001b[38;5;132;01m}\u001b[39;00m\u001b[38;5;124m: configuring model\u001b[39m\u001b[38;5;124m\"\u001b[39m)\n\u001b[1;32m    951\u001b[0m call\u001b[38;5;241m.\u001b[39m_call_configure_model(\u001b[38;5;28mself\u001b[39m)\n",
      "File \u001b[0;32m/perm/daep/conda/envs/ml-tt/lib/python3.10/site-packages/pytorch_lightning/trainer/call.py:92\u001b[0m, in \u001b[0;36m_call_setup_hook\u001b[0;34m(trainer)\u001b[0m\n\u001b[1;32m     89\u001b[0m trainer\u001b[38;5;241m.\u001b[39mstrategy\u001b[38;5;241m.\u001b[39mbarrier(\u001b[38;5;124m\"\u001b[39m\u001b[38;5;124mpre_setup\u001b[39m\u001b[38;5;124m\"\u001b[39m)\n\u001b[1;32m     91\u001b[0m \u001b[38;5;28;01mif\u001b[39;00m trainer\u001b[38;5;241m.\u001b[39mdatamodule \u001b[38;5;129;01mis\u001b[39;00m \u001b[38;5;129;01mnot\u001b[39;00m \u001b[38;5;28;01mNone\u001b[39;00m:\n\u001b[0;32m---> 92\u001b[0m     \u001b[43m_call_lightning_datamodule_hook\u001b[49m\u001b[43m(\u001b[49m\u001b[43mtrainer\u001b[49m\u001b[43m,\u001b[49m\u001b[43m \u001b[49m\u001b[38;5;124;43m\"\u001b[39;49m\u001b[38;5;124;43msetup\u001b[39;49m\u001b[38;5;124;43m\"\u001b[39;49m\u001b[43m,\u001b[49m\u001b[43m \u001b[49m\u001b[43mstage\u001b[49m\u001b[38;5;241;43m=\u001b[39;49m\u001b[43mfn\u001b[49m\u001b[43m)\u001b[49m\n\u001b[1;32m     93\u001b[0m _call_callback_hooks(trainer, \u001b[38;5;124m\"\u001b[39m\u001b[38;5;124msetup\u001b[39m\u001b[38;5;124m\"\u001b[39m, stage\u001b[38;5;241m=\u001b[39mfn)\n\u001b[1;32m     94\u001b[0m _call_lightning_module_hook(trainer, \u001b[38;5;124m\"\u001b[39m\u001b[38;5;124msetup\u001b[39m\u001b[38;5;124m\"\u001b[39m, stage\u001b[38;5;241m=\u001b[39mfn)\n",
      "File \u001b[0;32m/perm/daep/conda/envs/ml-tt/lib/python3.10/site-packages/pytorch_lightning/trainer/call.py:179\u001b[0m, in \u001b[0;36m_call_lightning_datamodule_hook\u001b[0;34m(trainer, hook_name, *args, **kwargs)\u001b[0m\n\u001b[1;32m    177\u001b[0m \u001b[38;5;28;01mif\u001b[39;00m \u001b[38;5;28mcallable\u001b[39m(fn):\n\u001b[1;32m    178\u001b[0m     \u001b[38;5;28;01mwith\u001b[39;00m trainer\u001b[38;5;241m.\u001b[39mprofiler\u001b[38;5;241m.\u001b[39mprofile(\u001b[38;5;124mf\u001b[39m\u001b[38;5;124m\"\u001b[39m\u001b[38;5;124m[LightningDataModule]\u001b[39m\u001b[38;5;132;01m{\u001b[39;00mtrainer\u001b[38;5;241m.\u001b[39mdatamodule\u001b[38;5;241m.\u001b[39m\u001b[38;5;18m__class__\u001b[39m\u001b[38;5;241m.\u001b[39m\u001b[38;5;18m__name__\u001b[39m\u001b[38;5;132;01m}\u001b[39;00m\u001b[38;5;124m.\u001b[39m\u001b[38;5;132;01m{\u001b[39;00mhook_name\u001b[38;5;132;01m}\u001b[39;00m\u001b[38;5;124m\"\u001b[39m):\n\u001b[0;32m--> 179\u001b[0m         \u001b[38;5;28;01mreturn\u001b[39;00m \u001b[43mfn\u001b[49m\u001b[43m(\u001b[49m\u001b[38;5;241;43m*\u001b[39;49m\u001b[43margs\u001b[49m\u001b[43m,\u001b[49m\u001b[43m \u001b[49m\u001b[38;5;241;43m*\u001b[39;49m\u001b[38;5;241;43m*\u001b[39;49m\u001b[43mkwargs\u001b[49m\u001b[43m)\u001b[49m\n\u001b[1;32m    180\u001b[0m \u001b[38;5;28;01mreturn\u001b[39;00m \u001b[38;5;28;01mNone\u001b[39;00m\n",
      "File \u001b[0;32m/etc/ecmwf/nfs/dh1_home_b/daep/projects/ai-land/ai_land/data_module.py:197\u001b[0m, in \u001b[0;36mNonLinRegDataModule.setup\u001b[0;34m(self, stage)\u001b[0m\n\u001b[1;32m    195\u001b[0m \u001b[38;5;28;01mdef\u001b[39;00m \u001b[38;5;21msetup\u001b[39m(\u001b[38;5;28mself\u001b[39m, stage):\n\u001b[1;32m    196\u001b[0m     \u001b[38;5;66;03m# generator = torch.Generator().manual_seed(42)\u001b[39;00m\n\u001b[0;32m--> 197\u001b[0m     \u001b[38;5;28mself\u001b[39m\u001b[38;5;241m.\u001b[39mtrain \u001b[38;5;241m=\u001b[39m \u001b[43mEcDataset\u001b[49m\u001b[43m(\u001b[49m\u001b[43mstart_yr\u001b[49m\u001b[38;5;241;43m=\u001b[39;49m\u001b[43mCONFIG\u001b[49m\u001b[43m[\u001b[49m\u001b[38;5;124;43m\"\u001b[39;49m\u001b[38;5;124;43mstart_year\u001b[39;49m\u001b[38;5;124;43m\"\u001b[39;49m\u001b[43m]\u001b[49m\u001b[43m,\u001b[49m\u001b[43m \u001b[49m\u001b[43mend_yr\u001b[49m\u001b[38;5;241;43m=\u001b[39;49m\u001b[43mCONFIG\u001b[49m\u001b[43m[\u001b[49m\u001b[38;5;124;43m\"\u001b[39;49m\u001b[38;5;124;43mend_year\u001b[39;49m\u001b[38;5;124;43m\"\u001b[39;49m\u001b[43m]\u001b[49m\u001b[43m)\u001b[49m\n\u001b[1;32m    198\u001b[0m     \u001b[38;5;28mself\u001b[39m\u001b[38;5;241m.\u001b[39mtest \u001b[38;5;241m=\u001b[39m EcDataset(\n\u001b[1;32m    199\u001b[0m         start_yr\u001b[38;5;241m=\u001b[39mCONFIG[\u001b[38;5;124m\"\u001b[39m\u001b[38;5;124mvalidation_start\u001b[39m\u001b[38;5;124m\"\u001b[39m], end_yr\u001b[38;5;241m=\u001b[39mCONFIG[\u001b[38;5;124m\"\u001b[39m\u001b[38;5;124mvalidation_end\u001b[39m\u001b[38;5;124m\"\u001b[39m]\n\u001b[1;32m    200\u001b[0m     )\n",
      "File \u001b[0;32m/etc/ecmwf/nfs/dh1_home_b/daep/projects/ai-land/ai_land/data_module.py:39\u001b[0m, in \u001b[0;36mEcDataset.__init__\u001b[0;34m(self, start_yr, end_yr, x_idxs, path, roll_out)\u001b[0m\n\u001b[1;32m     35\u001b[0m \u001b[38;5;28mself\u001b[39m\u001b[38;5;241m.\u001b[39mds_ecland \u001b[38;5;241m=\u001b[39m zarr\u001b[38;5;241m.\u001b[39mopen(path)\n\u001b[1;32m     36\u001b[0m \u001b[38;5;66;03m# Create time index to select appropriate data range\u001b[39;00m\n\u001b[1;32m     37\u001b[0m date_times \u001b[38;5;241m=\u001b[39m pd\u001b[38;5;241m.\u001b[39mto_datetime(\n\u001b[1;32m     38\u001b[0m     cftime\u001b[38;5;241m.\u001b[39mnum2pydate(\n\u001b[0;32m---> 39\u001b[0m         \u001b[38;5;28;43mself\u001b[39;49m\u001b[38;5;241;43m.\u001b[39;49m\u001b[43mds_ecland\u001b[49m\u001b[43m[\u001b[49m\u001b[38;5;124;43m\"\u001b[39;49m\u001b[38;5;124;43mtime\u001b[39;49m\u001b[38;5;124;43m\"\u001b[39;49m\u001b[43m]\u001b[49m, \u001b[38;5;28mself\u001b[39m\u001b[38;5;241m.\u001b[39mds_ecland[\u001b[38;5;124m\"\u001b[39m\u001b[38;5;124mtime\u001b[39m\u001b[38;5;124m\"\u001b[39m]\u001b[38;5;241m.\u001b[39mattrs[\u001b[38;5;124m\"\u001b[39m\u001b[38;5;124munits\u001b[39m\u001b[38;5;124m\"\u001b[39m]\n\u001b[1;32m     40\u001b[0m     )\n\u001b[1;32m     41\u001b[0m )\n\u001b[1;32m     42\u001b[0m \u001b[38;5;28mself\u001b[39m\u001b[38;5;241m.\u001b[39mstart_index \u001b[38;5;241m=\u001b[39m \u001b[38;5;28mmin\u001b[39m(np\u001b[38;5;241m.\u001b[39margwhere(date_times\u001b[38;5;241m.\u001b[39myear \u001b[38;5;241m==\u001b[39m \u001b[38;5;28mint\u001b[39m(start_yr)))[\u001b[38;5;241m0\u001b[39m]\n\u001b[1;32m     43\u001b[0m \u001b[38;5;28mself\u001b[39m\u001b[38;5;241m.\u001b[39mend_index \u001b[38;5;241m=\u001b[39m \u001b[38;5;28mmax\u001b[39m(np\u001b[38;5;241m.\u001b[39margwhere(date_times\u001b[38;5;241m.\u001b[39myear \u001b[38;5;241m==\u001b[39m \u001b[38;5;28mint\u001b[39m(end_yr)))[\u001b[38;5;241m0\u001b[39m]\n",
      "File \u001b[0;32m/perm/daep/conda/envs/ml-tt/lib/python3.10/site-packages/zarr/hierarchy.py:500\u001b[0m, in \u001b[0;36mGroup.__getitem__\u001b[0;34m(self, item)\u001b[0m\n\u001b[1;32m    498\u001b[0m         \u001b[38;5;28;01mraise\u001b[39;00m \u001b[38;5;167;01mKeyError\u001b[39;00m(item)\n\u001b[1;32m    499\u001b[0m \u001b[38;5;28;01melse\u001b[39;00m:\n\u001b[0;32m--> 500\u001b[0m     \u001b[38;5;28;01mraise\u001b[39;00m \u001b[38;5;167;01mKeyError\u001b[39;00m(item)\n",
      "\u001b[0;31mKeyError\u001b[0m: 'time'"
     ]
    }
   ],
   "source": [
    "%%time\n",
    "torch.cuda.empty_cache()\n",
    "torch.set_float32_matmul_precision(\"high\")\n",
    " \n",
    "#mlflow.pytorch.autolog()    \n",
    "#mlflow.set_experiment(CONFIG[\"logging\"][\"project\"])\n",
    "mlf_logger = MLFlowLogger(experiment_name=CONFIG[\"logging\"][\"project\"], tracking_uri=\"file:./ml-runs\")\n",
    "#mlf_logger.log_dict(CONFIG, \"config.json\")\n",
    "\n",
    "from ai_land.train_callbacks import PlotCallback\n",
    "#test_ds = EcDataset(start_yr=2022, end_yr=2022, x_idxs=(500, 500+1), path=\"/ec/res4/hpcperm/daep/ecland_i6aj_o400_2010_2022_6hr_subset.zarr\")\n",
    "#plot_callback = PlotCallback(1, test_ds, device=device, logger=mlf_logger)\n",
    "\n",
    "# torch.set_float32_matmul_precision('medium')\n",
    "trainer = pl.Trainer(\n",
    "    # precision='bf16-mixed',\n",
    "    #logger=csv_logger,\n",
    "    logger=mlf_logger,\n",
    "    #logger=wandb_logger,\n",
    "    callbacks=[#checkpoint_callback,\n",
    "               RichProgressBar(),\n",
    "               #plot_callback\n",
    "    ],\n",
    "    # callbacks=[RichProgressBar()],\n",
    "    max_epochs=50,  # 250,  # 150,  # 100,  # 200,\n",
    "    # enable_progress_bar = False,\n",
    "    # log_every_n_steps=490,\n",
    "    # barebones=True,\n",
    "    # devices=1, accelerator=\"gpu\"\n",
    ")\n",
    "\n",
    "# with mlflow.start_run():\n",
    "trainer.logger.log_hyperparams(CONFIG)\n",
    "trainer.fit(model_pyt, data_module)"
   ]
  },
  {
   "cell_type": "code",
   "execution_count": 12,
   "id": "66267b42-2c8c-4551-bdca-72956e14def7",
   "metadata": {
    "tags": []
   },
   "outputs": [
    {
     "data": {
      "text/plain": [
       "NonLinearRegression(\n",
       "  (layer_clim): Linear(in_features=19, out_features=64, bias=True)\n",
       "  (relu1): Tanh()\n",
       "  (layer_met): Linear(in_features=12, out_features=64, bias=True)\n",
       "  (relu2): Tanh()\n",
       "  (layer_state): Linear(in_features=7, out_features=64, bias=True)\n",
       "  (relu3): Tanh()\n",
       "  (combine_layer): Linear(in_features=192, out_features=64, bias=True)\n",
       "  (lrelu1): Tanh()\n",
       "  (fc1): Linear(in_features=64, out_features=64, bias=True)\n",
       "  (lrelu2): Tanh()\n",
       "  (fc2): Linear(in_features=64, out_features=64, bias=True)\n",
       "  (lrelu3): Tanh()\n",
       "  (fc3): Linear(in_features=64, out_features=7, bias=True)\n",
       "  (fc4): Linear(in_features=64, out_features=64, bias=True)\n",
       "  (lrelu5): Tanh()\n",
       "  (fc5): Linear(in_features=64, out_features=3, bias=True)\n",
       ")"
      ]
     },
     "execution_count": 12,
     "metadata": {},
     "output_type": "execute_result"
    }
   ],
   "source": [
    "model_pyt.eval()\n",
    "#v_46\n",
    "#torch.save(model_pyt.state_dict(), \"models/pyt_veg.pt\")"
   ]
  },
  {
   "cell_type": "markdown",
   "id": "e9c55973-635c-48bd-a1c9-fd4ab2bf9d04",
   "metadata": {},
   "source": [
    "# Testing out the trained model"
   ]
  },
  {
   "cell_type": "code",
   "execution_count": 13,
   "id": "be34c20c-bb69-4792-8d30-360b8b133337",
   "metadata": {
    "tags": []
   },
   "outputs": [],
   "source": [
    "test_ds = EcDataset(start_yr=\"2018\", \n",
    "                    end_yr=\"2022\", \n",
    "                    #path=\"/perm/daep/ec_land_db_test/ecland_i6aj_2018_2022_6H.zarr\",\n",
    "                    # x_idxs=(500-4,500+4),\n",
    "                    # x_idxs=(31794-4,31794+4),\n",
    "                    x_idxs=(500,501),\n",
    "                    #roll\n",
    "                   )\n",
    "# feats = test_ds.ds_ecland[dataset.dynamic_feat_lst].isel(x=4, time=slice(0,-1)).compute()\n",
    "# feats_arr2 = np.array(feats.to_array().values.T)"
   ]
  },
  {
   "cell_type": "code",
   "execution_count": 14,
   "id": "8abd2be6-d76d-46b4-b3c9-3f96c21ace68",
   "metadata": {
    "tags": []
   },
   "outputs": [
    {
     "data": {
      "text/plain": [
       "torch.Size([400, 1, 7])"
      ]
     },
     "execution_count": 14,
     "metadata": {},
     "output_type": "execute_result"
    }
   ],
   "source": [
    "test_ds[0][2].shape"
   ]
  },
  {
   "cell_type": "code",
   "execution_count": 15,
   "id": "630414a0-9d82-4725-ae08-bd8807301719",
   "metadata": {
    "tags": []
   },
   "outputs": [
    {
     "data": {
      "text/plain": [
       "NonLinearRegression(\n",
       "  (layer_clim): Linear(in_features=19, out_features=64, bias=True)\n",
       "  (relu1): Tanh()\n",
       "  (layer_met): Linear(in_features=12, out_features=64, bias=True)\n",
       "  (relu2): Tanh()\n",
       "  (layer_state): Linear(in_features=7, out_features=64, bias=True)\n",
       "  (relu3): Tanh()\n",
       "  (combine_layer): Linear(in_features=192, out_features=64, bias=True)\n",
       "  (lrelu1): Tanh()\n",
       "  (fc1): Linear(in_features=64, out_features=64, bias=True)\n",
       "  (lrelu2): Tanh()\n",
       "  (fc2): Linear(in_features=64, out_features=64, bias=True)\n",
       "  (lrelu3): Tanh()\n",
       "  (fc3): Linear(in_features=64, out_features=7, bias=True)\n",
       "  (fc4): Linear(in_features=64, out_features=64, bias=True)\n",
       "  (lrelu5): Tanh()\n",
       "  (fc5): Linear(in_features=64, out_features=3, bias=True)\n",
       ")"
      ]
     },
     "execution_count": 15,
     "metadata": {},
     "output_type": "execute_result"
    }
   ],
   "source": [
    "model_pyt.cpu()"
   ]
  },
  {
   "cell_type": "code",
   "execution_count": 16,
   "id": "11182af4-a1ef-4f0f-b896-9c9d8b0394b6",
   "metadata": {
    "tags": []
   },
   "outputs": [
    {
     "data": {
      "text/plain": [
       "6778"
      ]
     },
     "execution_count": 16,
     "metadata": {},
     "output_type": "execute_result"
    }
   ],
   "source": [
    "len(test_ds)"
   ]
  },
  {
   "cell_type": "code",
   "execution_count": 17,
   "id": "6168f215-c6d8-40e7-9389-3f6e23feda16",
   "metadata": {
    "tags": []
   },
   "outputs": [
    {
     "data": {
      "text/plain": [
       "1"
      ]
     },
     "execution_count": 17,
     "metadata": {},
     "output_type": "execute_result"
    }
   ],
   "source": [
    "test_ds.x_size"
   ]
  },
  {
   "cell_type": "code",
   "execution_count": 18,
   "id": "0fb816a5-30f5-4166-b54c-070cc7e2c3a0",
   "metadata": {
    "tags": []
   },
   "outputs": [],
   "source": [
    "states_arr = torch.zeros(len(test_ds), test_ds.x_size, len(test_ds.targ_lst))\n",
    "states_diag_arr = torch.zeros(len(test_ds), test_ds.x_size, len(test_ds.targ_diag_lst))\n",
    "\n",
    "for x in range(len(test_ds)-1):\n",
    "    static_feats, feats, state, state_inc, state_diag = test_ds[x]\n",
    "    states_arr[x] = state[0]\n",
    "    states_diag_arr[x] = state_diag[0]"
   ]
  },
  {
   "cell_type": "code",
   "execution_count": 19,
   "id": "183a1447-1dad-4210-994b-a84096b20692",
   "metadata": {
    "tags": []
   },
   "outputs": [
    {
     "data": {
      "text/plain": [
       "torch.Size([7170, 1, 7])"
      ]
     },
     "execution_count": 19,
     "metadata": {},
     "output_type": "execute_result"
    }
   ],
   "source": [
    "states_arr.shape"
   ]
  },
  {
   "cell_type": "code",
   "execution_count": 20,
   "id": "226c311f-02b1-49d1-850b-71938c80bdf8",
   "metadata": {
    "tags": []
   },
   "outputs": [
    {
     "name": "stdout",
     "output_type": "stream",
     "text": [
      "on step 0...\n",
      "on step 1000...\n",
      "on step 2000...\n",
      "on step 3000...\n",
      "on step 4000...\n",
      "on step 5000...\n",
      "on step 6000...\n",
      "on step 7000...\n",
      "CPU times: user 7.41 s, sys: 4.86 s, total: 12.3 s\n",
      "Wall time: 23.7 s\n"
     ]
    }
   ],
   "source": [
    "%%time\n",
    "# Loop over all times and iteratively apply the ML model to construct a 5-year ML estimate to the ec-land model\n",
    "#feats_arr3 = dataset.dynamic_feat_scalar.transform(\n",
    "#    tensor(feats_arr2, dtype=torch.float32))#.reshape(1, -1, 19)  # .to(device)\n",
    "#static_feats = test_ds.X_static_scaled[0,4,:]\n",
    "preds = states_arr.clone()\n",
    "preds_diag = states_diag_arr.clone()\n",
    "#print(feats_arr3.shape)\n",
    "\n",
    "for x in range(len(test_ds)-1):\n",
    "    if x % 1000 == 0:\n",
    "        print(f\"on step {x}...\")\n",
    "    with torch.no_grad():\n",
    "        static_feats, feats, state, state_inc, state_diag = test_ds[x]\n",
    "        preds_dx, diags_x = model_pyt(static_feats[0], feats[0], preds[x])\n",
    "        preds[x+1] = preds[x] + preds_dx\n",
    "        preds_diag[x] = diags_x\n",
    "        \n",
    "# preds = dataset.targ_scalar.inv_transform(preds).cpu().numpy() #.reshape(-1, len(dataset.feat_lst))\n",
    "# preds_diag = dataset.targ_diag_scalar.inv_transform(preds_diag).cpu().numpy() #.reshape(-1, len(dataset.feat_lst))\n",
    "#preds = np.clip(preds, 0, None)"
   ]
  },
  {
   "cell_type": "code",
   "execution_count": 21,
   "id": "ca36f868-00b8-4b99-9697-d2826180f5f6",
   "metadata": {
    "tags": []
   },
   "outputs": [
    {
     "data": {
      "text/plain": [
       "torch.Size([7170, 1, 7])"
      ]
     },
     "execution_count": 21,
     "metadata": {},
     "output_type": "execute_result"
    }
   ],
   "source": [
    "preds.shape"
   ]
  },
  {
   "cell_type": "code",
   "execution_count": 22,
   "id": "9d9f5a13-c84d-4af4-aef9-4b737f9a2284",
   "metadata": {
    "tags": []
   },
   "outputs": [
    {
     "data": {
      "image/png": "[encoded data removed]",
      "text/plain": [
       "<Figure size 640x480 with 1 Axes>"
      ]
     },
     "metadata": {},
     "output_type": "display_data"
    }
   ],
   "source": [
    "idx = 6\n",
    "\n",
    "plt.plot(states_arr[:100,0,idx], label=\"ec-land\")\n",
    "plt.plot(preds[:100,0,idx], label=\"emualtor\")\n",
    "plt.legend()\n",
    "plt.show()"
   ]
  },
  {
   "cell_type": "code",
   "execution_count": 23,
   "id": "ad9d41f4-3452-458e-a0e5-c5ec8b3d5828",
   "metadata": {
    "tags": []
   },
   "outputs": [
    {
     "data": {
      "image/png": "[encoded data removed]",
      "text/plain": [
       "<Figure size 640x480 with 1 Axes>"
      ]
     },
     "metadata": {},
     "output_type": "display_data"
    }
   ],
   "source": [
    "idx = 1\n",
    "\n",
    "plt.plot(states_arr[:100,0,idx], label=\"ec-land\")\n",
    "plt.plot(preds[:100,0,idx], label=\"emualtor\")\n",
    "plt.legend()\n",
    "plt.show()"
   ]
  },
  {
   "cell_type": "code",
   "execution_count": 24,
   "id": "f54f47f8-b2eb-4589-b44d-212cef3583fb",
   "metadata": {
    "tags": []
   },
   "outputs": [
    {
     "data": {
      "image/png": "[encoded data removed]",
      "text/plain": [
       "<Figure size 640x480 with 1 Axes>"
      ]
     },
     "metadata": {},
     "output_type": "display_data"
    }
   ],
   "source": [
    "idx = 1\n",
    "plt.plot(states_arr[:,0,idx], label=\"ec-land\")\n",
    "plt.plot(preds[:,0,idx], label=\"emualtor\")\n",
    "plt.legend()\n",
    "plt.show()"
   ]
  },
  {
   "cell_type": "code",
   "execution_count": null,
   "id": "94a07475-d238-405e-91cb-25e5d8170ef0",
   "metadata": {
    "tags": []
   },
   "outputs": [],
   "source": [
    "idx = 7\n",
    "\n",
    "plt.plot(dataset.targ_scalar.inv_transform(states)[4500:4600,idx], label=\"ec-land\")\n",
    "plt.plot(preds[4500:4600, idx], '--', label=\"emualtor\")\n",
    "plt.legend()\n",
    "plt.show()"
   ]
  },
  {
   "cell_type": "code",
   "execution_count": null,
   "id": "7ea5a00a-7a5a-4b10-997b-00dd4506d6ca",
   "metadata": {
    "tags": []
   },
   "outputs": [],
   "source": [
    "idx = 2\n",
    "\n",
    "plt.plot(dataset.targ_diag_scalar.inv_transform(states_diag)[4500:4600,idx], label=\"ec-land\")\n",
    "plt.plot(preds_diag[4500:4600, idx], '--', label=\"emualtor\")\n",
    "plt.legend()\n",
    "plt.show()"
   ]
  },
  {
   "cell_type": "code",
   "execution_count": null,
   "id": "f2218f58-800a-46b5-b31e-30836b476b70",
   "metadata": {
    "tags": []
   },
   "outputs": [],
   "source": [
    "idx = 0\n",
    "\n",
    "plt.plot(dataset.targ_diag_scalar.inv_transform(states_diag)[:,idx], label=\"ec-land\")\n",
    "plt.plot(preds_diag[:, idx], '--', label=\"emualtor\")\n",
    "plt.legend()\n",
    "plt.show()"
   ]
  },
  {
   "cell_type": "code",
   "execution_count": null,
   "id": "8f7cfdfb-c7c5-48e2-826c-e81fbced40fe",
   "metadata": {
    "tags": []
   },
   "outputs": [],
   "source": [
    "model_pyt(static_feats, feats[x], states[x])"
   ]
  },
  {
   "cell_type": "code",
   "execution_count": null,
   "id": "e1cf8475-8ebd-4cb5-9d01-5fe9f6504616",
   "metadata": {
    "tags": []
   },
   "outputs": [],
   "source": [
    "def mod_update(stat_fts, feats, states):\n",
    "    preds_dx, preds_diag = model_pyt(stat_fts, feats, states)\n",
    "    # return states+preds_dx, preds_diag\n",
    "    return torch.cat((states+preds_dx, preds_diag), axis=-1)"
   ]
  },
  {
   "cell_type": "code",
   "execution_count": null,
   "id": "4026840b-78fa-4dd4-8cee-aa004a060698",
   "metadata": {
    "tags": []
   },
   "outputs": [],
   "source": [
    "x = 3\n",
    "jacs = torch.autograd.functional.jacobian(mod_update, (static_feats, feats[x], states[x]))\n",
    "jacs[2].shape"
   ]
  },
  {
   "cell_type": "code",
   "execution_count": null,
   "id": "26f19029-8c5e-48f6-870a-ad154e0488f7",
   "metadata": {
    "tags": []
   },
   "outputs": [],
   "source": [
    "fig, ax = plt.subplots()\n",
    "c = ax.imshow(jacs[2], cmap=\"RdBu_r\", vmin=-1, vmax=1)\n",
    "plt.colorbar(c)\n",
    "ax.set_xticks(np.arange(len(CONFIG[\"targets_prog\"])))\n",
    "ax.set_xticklabels(CONFIG[\"targets_prog\"])\n",
    "ax.set_yticks(np.arange(len(CONFIG[\"targets_prog\"]+CONFIG[\"targets_diag\"])))\n",
    "ax.set_yticklabels(CONFIG[\"targets_prog\"]+CONFIG[\"targets_diag\"])\n",
    "#ax.set_title(f\"Jacobian at {str(dataset.ds_ecland.time.values[x])[:13]} ({dataset.ds_ecland.lat.values[1]:.2f}, {dataset.ds_ecland.lon.values[1]:.2f})\")\n",
    "fig.autofmt_xdate(rotation=45)\n",
    "plt.show()"
   ]
  },
  {
   "cell_type": "code",
   "execution_count": null,
   "id": "7de04122-0074-406f-a898-810f8eda872d",
   "metadata": {
    "tags": []
   },
   "outputs": [],
   "source": [
    "fig, ax = plt.subplots()\n",
    "c = ax.imshow(jacs[1], cmap=\"RdBu_r\", vmin=-1, vmax=1)\n",
    "plt.colorbar(c)\n",
    "ax.set_xticks(np.arange(len(CONFIG[\"dynamic_feats\"])))\n",
    "ax.set_xticklabels(CONFIG[\"dynamic_feats\"])\n",
    "ax.set_yticks(np.arange(len(CONFIG[\"targets_prog\"]+CONFIG[\"targets_diag\"])))\n",
    "ax.set_yticklabels(CONFIG[\"targets_prog\"]+CONFIG[\"targets_diag\"])\n",
    "#ax.set_title(f\"Jacobian at {str(dataset.ds_ecland.time.values[x])[:13]} ({dataset.ds_ecland.lat.values[1]:.2f}, {dataset.ds_ecland.lon.values[1]:.2f})\")\n",
    "fig.autofmt_xdate(rotation=45)\n",
    "plt.show()"
   ]
  },
  {
   "cell_type": "code",
   "execution_count": null,
   "id": "656d469d-c639-4102-bae3-7b29f2501de7",
   "metadata": {
    "tags": []
   },
   "outputs": [],
   "source": [
    "fig, ax = plt.subplots()\n",
    "c = ax.imshow(jacs[0], cmap=\"RdBu_r\", vmin=-0.05, vmax=0.05)\n",
    "plt.colorbar(c)\n",
    "ax.set_xticks(np.arange(len(CONFIG[\"clim_feats\"])))\n",
    "ax.set_xticklabels(CONFIG[\"clim_feats\"])\n",
    "ax.set_yticks(np.arange(len(CONFIG[\"targets_prog\"]+CONFIG[\"targets_diag\"])))\n",
    "ax.set_yticklabels(CONFIG[\"targets_prog\"]+CONFIG[\"targets_diag\"])\n",
    "#ax.set_title(f\"Jacobian at {str(dataset.ds_ecland.time.values[x])[:13]} ({dataset.ds_ecland.lat.values[1]:.2f}, {dataset.ds_ecland.lon.values[1]:.2f})\")\n",
    "fig.autofmt_xdate(rotation=45)\n",
    "plt.show()"
   ]
  },
  {
   "cell_type": "code",
   "execution_count": null,
   "id": "a1d94d29-b5ae-435b-b97d-234a4bb32c7f",
   "metadata": {
    "tags": []
   },
   "outputs": [],
   "source": [
    "import matplotlib.pyplot as plt"
   ]
  },
  {
   "cell_type": "code",
   "execution_count": null,
   "id": "61862259-73d6-4041-99a4-1a51c49c10a0",
   "metadata": {
    "tags": []
   },
   "outputs": [],
   "source": [
    "fig = plt.figure(figsize=(16,8))\n",
    "ax1 = plt.subplot(331)\n",
    "ax2 = plt.subplot(332)\n",
    "ax3 = plt.subplot(333)\n",
    "ax4 = plt.subplot(334)\n",
    "ax5 = plt.subplot(335)\n",
    "ax6 = plt.subplot(336)\n",
    "ax7 = plt.subplot(337)\n",
    "\n",
    "def ailand_plot(var_name, ax, ylabel, ax_title, test_date=\"2022-01-01\"):\n",
    "    \"\"\"Plotting function for the ec-land database and ai-land model output\n",
    "\n",
    "    :param var_name: parameter variable name\n",
    "    :param ax: the axes to plot on\n",
    "    :param ylabel: y-label for plot\n",
    "    :param ax_title: title for plot\n",
    "    :param test_date: date to plot vertical line (train/test split), defaults to \"2022-01-01\"\n",
    "    :return: plot axes\n",
    "    \"\"\"\n",
    "    feats_plt[var_name].plot(label=\"ec-land\", ax=ax)\n",
    "    ax.plot(feats_plt.time[:], preds[:, dataset.targ_lst.index(var_name)], '--', label=\"ai-land\")\n",
    "    ax.axvline(feats_plt.sel(time=test_date).time.values[0], color=\"k\", linestyle=\"--\")\n",
    "    ax.set_xlim(feats_plt.time.values[[0,-1]])\n",
    "    ax.set_ylabel(ylabel)\n",
    "    ax.set_title(ax_title)\n",
    "    return ax\n",
    "\n",
    "ailand_plot(\"swvl1\", ax1, \"Soil Moisture (m3 m-3)\", \"Soil Moisture Layer 1\")\n",
    "ailand_plot(\"swvl2\", ax2, \"Soil Moisture (m3 m-3)\", \"Soil Moisture Layer 2\")\n",
    "ailand_plot(\"swvl3\", ax3, \"Soil Moisture (m3 m-3)\", \"Soil Moisture Layer 3\")\n",
    "ailand_plot(\"stl1\", ax4, \"Soil Temperature (K)\", \"Soil Temperature Layer 1\")\n",
    "ailand_plot(\"stl2\", ax5, \"Soil Temperature (K)\", \"Soil Temperature Layer 2\")\n",
    "ailand_plot(\"stl3\", ax6, \"Soil Temperature (K)\", \"Soil Temperature Layer 3\")\n",
    "ailand_plot(\"snowc\", ax7, \"Snow Cover Fraction (-)\", \"Snow Cover Fraction\")\n",
    "\n",
    "plt.legend()\n",
    "fig.suptitle(f\"ec/ai-land train-test comparison ({feats_plt.lat.values: .2f} N, {feats_plt.lon.values: .2f} E)\")\n",
    "fig.tight_layout()\n",
    "plt.show()"
   ]
  },
  {
   "cell_type": "code",
   "execution_count": null,
   "id": "22160538-3102-4cb8-944e-d884764482b5",
   "metadata": {},
   "outputs": [],
   "source": []
  }
 ],
 "metadata": {
  "kernelspec": {
   "display_name": "mltt",
   "language": "python",
   "name": "mltt"
  },
  "language_info": {
   "codemirror_mode": {
    "name": "ipython",
    "version": 3
   },
   "file_extension": ".py",
   "mimetype": "text/x-python",
   "name": "python",
   "nbconvert_exporter": "python",
   "pygments_lexer": "ipython3",
   "version": "3.10.14"
  }
 },
 "nbformat": 4,
 "nbformat_minor": 5
}
